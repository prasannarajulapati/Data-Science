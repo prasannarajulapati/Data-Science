{
 "cells": [
  {
   "cell_type": "markdown",
   "id": "35f004fb",
   "metadata": {},
   "source": [
    "# Neural network"
   ]
  },
  {
   "cell_type": "markdown",
   "id": "208df07c",
   "metadata": {},
   "source": [
    "Neural networks, also known as artificial neural networks (ANNs) or simulated neural networks (SNNs), are a subset \n",
    "of machine learning and are at the heart of deep learning algorithms. Their name and structure are inspired by the human brain, mimicking the way that biological neurons signal to one another."
   ]
  },
  {
   "attachments": {
    "nn2.png": {
     "image/png": "[encoded data removed]"
    }
   },
   "cell_type": "markdown",
   "id": "2d57bc12",
   "metadata": {},
   "source": [
    "![nn2.png](attachment:nn2.png)"
   ]
  },
  {
   "cell_type": "code",
   "execution_count": 1,
   "id": "346e113b",
   "metadata": {},
   "outputs": [],
   "source": [
    "import numpy as np\n",
    "import pandas as pd\n",
    "import matplotlib.pyplot as plt"
   ]
  },
  {
   "cell_type": "code",
   "execution_count": 2,
   "id": "4f12f90d",
   "metadata": {},
   "outputs": [],
   "source": [
    "from sklearn.datasets import load_wine"
   ]
  },
  {
   "cell_type": "code",
   "execution_count": 3,
   "id": "af341cbd",
   "metadata": {},
   "outputs": [],
   "source": [
    "from tensorflow.keras.layers import Dense   #NeuralNetworkLa\n",
    "\n",
    "#!pip install tensorflow"
   ]
  },
  {
   "cell_type": "code",
   "execution_count": 4,
   "id": "d542300b",
   "metadata": {},
   "outputs": [],
   "source": [
    "from tensorflow.keras.models import Sequential\n",
    "from tensorflow.keras.utils import to_categorical"
   ]
  },
  {
   "cell_type": "code",
   "execution_count": 5,
   "id": "79aa9df0",
   "metadata": {},
   "outputs": [],
   "source": [
    "data = load_wine()\n",
    "features = data['data']\n",
    "target = data['target']"
   ]
  },
  {
   "cell_type": "code",
   "execution_count": 6,
   "id": "e893ee47",
   "metadata": {},
   "outputs": [
    {
     "data": {
      "text/plain": [
       "array([0, 0, 0, 0, 0, 0, 0, 0, 0, 0, 0, 0, 0, 0, 0, 0, 0, 0, 0, 0, 0, 0,\n",
       "       0, 0, 0, 0, 0, 0, 0, 0, 0, 0, 0, 0, 0, 0, 0, 0, 0, 0, 0, 0, 0, 0,\n",
       "       0, 0, 0, 0, 0, 0, 0, 0, 0, 0, 0, 0, 0, 0, 0, 1, 1, 1, 1, 1, 1, 1,\n",
       "       1, 1, 1, 1, 1, 1, 1, 1, 1, 1, 1, 1, 1, 1, 1, 1, 1, 1, 1, 1, 1, 1,\n",
       "       1, 1, 1, 1, 1, 1, 1, 1, 1, 1, 1, 1, 1, 1, 1, 1, 1, 1, 1, 1, 1, 1,\n",
       "       1, 1, 1, 1, 1, 1, 1, 1, 1, 1, 1, 1, 1, 1, 1, 1, 1, 1, 1, 1, 2, 2,\n",
       "       2, 2, 2, 2, 2, 2, 2, 2, 2, 2, 2, 2, 2, 2, 2, 2, 2, 2, 2, 2, 2, 2,\n",
       "       2, 2, 2, 2, 2, 2, 2, 2, 2, 2, 2, 2, 2, 2, 2, 2, 2, 2, 2, 2, 2, 2,\n",
       "       2, 2])"
      ]
     },
     "execution_count": 6,
     "metadata": {},
     "output_type": "execute_result"
    }
   ],
   "source": [
    "target"
   ]
  },
  {
   "cell_type": "code",
   "execution_count": 7,
   "id": "55164f9f",
   "metadata": {},
   "outputs": [],
   "source": [
    "targets_ = to_categorical(target, num_classes=3)"
   ]
  },
  {
   "cell_type": "code",
   "execution_count": 8,
   "id": "d8095c4b",
   "metadata": {},
   "outputs": [
    {
     "data": {
      "text/plain": [
       "array([[1., 0., 0.],\n",
       "       [1., 0., 0.],\n",
       "       [1., 0., 0.],\n",
       "       [1., 0., 0.],\n",
       "       [1., 0., 0.],\n",
       "       [1., 0., 0.],\n",
       "       [1., 0., 0.],\n",
       "       [1., 0., 0.],\n",
       "       [1., 0., 0.],\n",
       "       [1., 0., 0.],\n",
       "       [1., 0., 0.],\n",
       "       [1., 0., 0.],\n",
       "       [1., 0., 0.],\n",
       "       [1., 0., 0.],\n",
       "       [1., 0., 0.],\n",
       "       [1., 0., 0.],\n",
       "       [1., 0., 0.],\n",
       "       [1., 0., 0.],\n",
       "       [1., 0., 0.],\n",
       "       [1., 0., 0.],\n",
       "       [1., 0., 0.],\n",
       "       [1., 0., 0.],\n",
       "       [1., 0., 0.],\n",
       "       [1., 0., 0.],\n",
       "       [1., 0., 0.],\n",
       "       [1., 0., 0.],\n",
       "       [1., 0., 0.],\n",
       "       [1., 0., 0.],\n",
       "       [1., 0., 0.],\n",
       "       [1., 0., 0.],\n",
       "       [1., 0., 0.],\n",
       "       [1., 0., 0.],\n",
       "       [1., 0., 0.],\n",
       "       [1., 0., 0.],\n",
       "       [1., 0., 0.],\n",
       "       [1., 0., 0.],\n",
       "       [1., 0., 0.],\n",
       "       [1., 0., 0.],\n",
       "       [1., 0., 0.],\n",
       "       [1., 0., 0.],\n",
       "       [1., 0., 0.],\n",
       "       [1., 0., 0.],\n",
       "       [1., 0., 0.],\n",
       "       [1., 0., 0.],\n",
       "       [1., 0., 0.],\n",
       "       [1., 0., 0.],\n",
       "       [1., 0., 0.],\n",
       "       [1., 0., 0.],\n",
       "       [1., 0., 0.],\n",
       "       [1., 0., 0.],\n",
       "       [1., 0., 0.],\n",
       "       [1., 0., 0.],\n",
       "       [1., 0., 0.],\n",
       "       [1., 0., 0.],\n",
       "       [1., 0., 0.],\n",
       "       [1., 0., 0.],\n",
       "       [1., 0., 0.],\n",
       "       [1., 0., 0.],\n",
       "       [1., 0., 0.],\n",
       "       [0., 1., 0.],\n",
       "       [0., 1., 0.],\n",
       "       [0., 1., 0.],\n",
       "       [0., 1., 0.],\n",
       "       [0., 1., 0.],\n",
       "       [0., 1., 0.],\n",
       "       [0., 1., 0.],\n",
       "       [0., 1., 0.],\n",
       "       [0., 1., 0.],\n",
       "       [0., 1., 0.],\n",
       "       [0., 1., 0.],\n",
       "       [0., 1., 0.],\n",
       "       [0., 1., 0.],\n",
       "       [0., 1., 0.],\n",
       "       [0., 1., 0.],\n",
       "       [0., 1., 0.],\n",
       "       [0., 1., 0.],\n",
       "       [0., 1., 0.],\n",
       "       [0., 1., 0.],\n",
       "       [0., 1., 0.],\n",
       "       [0., 1., 0.],\n",
       "       [0., 1., 0.],\n",
       "       [0., 1., 0.],\n",
       "       [0., 1., 0.],\n",
       "       [0., 1., 0.],\n",
       "       [0., 1., 0.],\n",
       "       [0., 1., 0.],\n",
       "       [0., 1., 0.],\n",
       "       [0., 1., 0.],\n",
       "       [0., 1., 0.],\n",
       "       [0., 1., 0.],\n",
       "       [0., 1., 0.],\n",
       "       [0., 1., 0.],\n",
       "       [0., 1., 0.],\n",
       "       [0., 1., 0.],\n",
       "       [0., 1., 0.],\n",
       "       [0., 1., 0.],\n",
       "       [0., 1., 0.],\n",
       "       [0., 1., 0.],\n",
       "       [0., 1., 0.],\n",
       "       [0., 1., 0.],\n",
       "       [0., 1., 0.],\n",
       "       [0., 1., 0.],\n",
       "       [0., 1., 0.],\n",
       "       [0., 1., 0.],\n",
       "       [0., 1., 0.],\n",
       "       [0., 1., 0.],\n",
       "       [0., 1., 0.],\n",
       "       [0., 1., 0.],\n",
       "       [0., 1., 0.],\n",
       "       [0., 1., 0.],\n",
       "       [0., 1., 0.],\n",
       "       [0., 1., 0.],\n",
       "       [0., 1., 0.],\n",
       "       [0., 1., 0.],\n",
       "       [0., 1., 0.],\n",
       "       [0., 1., 0.],\n",
       "       [0., 1., 0.],\n",
       "       [0., 1., 0.],\n",
       "       [0., 1., 0.],\n",
       "       [0., 1., 0.],\n",
       "       [0., 1., 0.],\n",
       "       [0., 1., 0.],\n",
       "       [0., 1., 0.],\n",
       "       [0., 1., 0.],\n",
       "       [0., 1., 0.],\n",
       "       [0., 1., 0.],\n",
       "       [0., 1., 0.],\n",
       "       [0., 1., 0.],\n",
       "       [0., 1., 0.],\n",
       "       [0., 1., 0.],\n",
       "       [0., 0., 1.],\n",
       "       [0., 0., 1.],\n",
       "       [0., 0., 1.],\n",
       "       [0., 0., 1.],\n",
       "       [0., 0., 1.],\n",
       "       [0., 0., 1.],\n",
       "       [0., 0., 1.],\n",
       "       [0., 0., 1.],\n",
       "       [0., 0., 1.],\n",
       "       [0., 0., 1.],\n",
       "       [0., 0., 1.],\n",
       "       [0., 0., 1.],\n",
       "       [0., 0., 1.],\n",
       "       [0., 0., 1.],\n",
       "       [0., 0., 1.],\n",
       "       [0., 0., 1.],\n",
       "       [0., 0., 1.],\n",
       "       [0., 0., 1.],\n",
       "       [0., 0., 1.],\n",
       "       [0., 0., 1.],\n",
       "       [0., 0., 1.],\n",
       "       [0., 0., 1.],\n",
       "       [0., 0., 1.],\n",
       "       [0., 0., 1.],\n",
       "       [0., 0., 1.],\n",
       "       [0., 0., 1.],\n",
       "       [0., 0., 1.],\n",
       "       [0., 0., 1.],\n",
       "       [0., 0., 1.],\n",
       "       [0., 0., 1.],\n",
       "       [0., 0., 1.],\n",
       "       [0., 0., 1.],\n",
       "       [0., 0., 1.],\n",
       "       [0., 0., 1.],\n",
       "       [0., 0., 1.],\n",
       "       [0., 0., 1.],\n",
       "       [0., 0., 1.],\n",
       "       [0., 0., 1.],\n",
       "       [0., 0., 1.],\n",
       "       [0., 0., 1.],\n",
       "       [0., 0., 1.],\n",
       "       [0., 0., 1.],\n",
       "       [0., 0., 1.],\n",
       "       [0., 0., 1.],\n",
       "       [0., 0., 1.],\n",
       "       [0., 0., 1.],\n",
       "       [0., 0., 1.],\n",
       "       [0., 0., 1.]], dtype=float32)"
      ]
     },
     "execution_count": 8,
     "metadata": {},
     "output_type": "execute_result"
    }
   ],
   "source": [
    "targets_"
   ]
  },
  {
   "cell_type": "code",
   "execution_count": 9,
   "id": "654013e0",
   "metadata": {},
   "outputs": [
    {
     "data": {
      "text/plain": [
       "13"
      ]
     },
     "execution_count": 9,
     "metadata": {},
     "output_type": "execute_result"
    }
   ],
   "source": [
    "features.shape[1]"
   ]
  },
  {
   "cell_type": "code",
   "execution_count": 10,
   "id": "bce0a6c2",
   "metadata": {},
   "outputs": [],
   "source": [
    "from sklearn.model_selection import train_test_split\n",
    "\n",
    "X_train, X_test, y_train, y_test = train_test_split(features, targets_)\n",
    "X_train, X_val, y_train, y_val = train_test_split(X_train, y_train)"
   ]
  },
  {
   "cell_type": "code",
   "execution_count": 11,
   "id": "32243f69",
   "metadata": {},
   "outputs": [],
   "source": [
    "model = Sequential()\n",
    "\n",
    "model.add(Dense(100, input_shape=(features.shape[1],)))\n",
    "model.add(Dense(45, activation=\"relu\"))\n",
    "model.add(Dense(27, activation=\"relu\"))\n",
    "model.add(Dense(18, activation=\"relu\"))\n",
    "model.add(Dense(10, activation=\"relu\"))\n",
    "model.add(Dense(25, activation=\"relu\"))\n",
    "model.add(Dense(3, activation=\"softmax\"))"
   ]
  },
  {
   "cell_type": "code",
   "execution_count": 12,
   "id": "33cec576",
   "metadata": {},
   "outputs": [
    {
     "name": "stdout",
     "output_type": "stream",
     "text": [
      "Model: \"sequential\"\n",
      "_________________________________________________________________\n",
      " Layer (type)                Output Shape              Param #   \n",
      "=================================================================\n",
      " dense (Dense)               (None, 100)               1400      \n",
      "                                                                 \n",
      " dense_1 (Dense)             (None, 45)                4545      \n",
      "                                                                 \n",
      " dense_2 (Dense)             (None, 27)                1242      \n",
      "                                                                 \n",
      " dense_3 (Dense)             (None, 18)                504       \n",
      "                                                                 \n",
      " dense_4 (Dense)             (None, 10)                190       \n",
      "                                                                 \n",
      " dense_5 (Dense)             (None, 25)                275       \n",
      "                                                                 \n",
      " dense_6 (Dense)             (None, 3)                 78        \n",
      "                                                                 \n",
      "=================================================================\n",
      "Total params: 8,234\n",
      "Trainable params: 8,234\n",
      "Non-trainable params: 0\n",
      "_________________________________________________________________\n"
     ]
    }
   ],
   "source": [
    "model.summary()"
   ]
  },
  {
   "cell_type": "code",
   "execution_count": 13,
   "id": "91f4dae3",
   "metadata": {},
   "outputs": [],
   "source": [
    "import tensorflow\n",
    "\n",
    "model.compile(optimizer=\"sgd\",                                          # optimized sgd(Stochastic Gradient Descent )\n",
    "              loss=tensorflow.keras.losses.CategoricalCrossentropy(),   # loss function\n",
    "              metrics=['accuracy'])"
   ]
  },
  {
   "cell_type": "code",
   "execution_count": 14,
   "id": "274b4cdd",
   "metadata": {},
   "outputs": [
    {
     "name": "stdout",
     "output_type": "stream",
     "text": [
      "Epoch 1/20\n",
      "4/4 [==============================] - 1s 108ms/step - loss: 58.7920 - accuracy: 0.4444 - val_loss: 1.1018 - val_accuracy: 0.2059\n",
      "Epoch 2/20\n",
      "4/4 [==============================] - 0s 15ms/step - loss: 1.1005 - accuracy: 0.2626 - val_loss: 1.0998 - val_accuracy: 0.2059\n",
      "Epoch 3/20\n",
      "4/4 [==============================] - 0s 16ms/step - loss: 1.0992 - accuracy: 0.2626 - val_loss: 1.0998 - val_accuracy: 0.2059\n",
      "Epoch 4/20\n",
      "4/4 [==============================] - 0s 16ms/step - loss: 1.0991 - accuracy: 0.2626 - val_loss: 1.0987 - val_accuracy: 0.4412\n",
      "Epoch 5/20\n",
      "4/4 [==============================] - 0s 16ms/step - loss: 1.0986 - accuracy: 0.4141 - val_loss: 1.0973 - val_accuracy: 0.4412\n",
      "Epoch 6/20\n",
      "4/4 [==============================] - 0s 16ms/step - loss: 1.0974 - accuracy: 0.4141 - val_loss: 1.0966 - val_accuracy: 0.4412\n",
      "Epoch 7/20\n",
      "4/4 [==============================] - 0s 16ms/step - loss: 1.0968 - accuracy: 0.4141 - val_loss: 1.0961 - val_accuracy: 0.4412\n",
      "Epoch 8/20\n",
      "4/4 [==============================] - 0s 16ms/step - loss: 1.0965 - accuracy: 0.4141 - val_loss: 1.0950 - val_accuracy: 0.4412\n",
      "Epoch 9/20\n",
      "4/4 [==============================] - 0s 19ms/step - loss: 1.0959 - accuracy: 0.4141 - val_loss: 1.0938 - val_accuracy: 0.4412\n",
      "Epoch 10/20\n",
      "4/4 [==============================] - 0s 16ms/step - loss: 1.0951 - accuracy: 0.4141 - val_loss: 1.0929 - val_accuracy: 0.4412\n",
      "Epoch 11/20\n",
      "4/4 [==============================] - 0s 19ms/step - loss: 1.0948 - accuracy: 0.4141 - val_loss: 1.0922 - val_accuracy: 0.4412\n",
      "Epoch 12/20\n",
      "4/4 [==============================] - 0s 21ms/step - loss: 1.0945 - accuracy: 0.4141 - val_loss: 1.0913 - val_accuracy: 0.4412\n",
      "Epoch 13/20\n",
      "4/4 [==============================] - 0s 19ms/step - loss: 1.0941 - accuracy: 0.4141 - val_loss: 1.0901 - val_accuracy: 0.4412\n",
      "Epoch 14/20\n",
      "4/4 [==============================] - 0s 16ms/step - loss: 1.0933 - accuracy: 0.4141 - val_loss: 1.0897 - val_accuracy: 0.4412\n",
      "Epoch 15/20\n",
      "4/4 [==============================] - 0s 16ms/step - loss: 1.0930 - accuracy: 0.4141 - val_loss: 1.0896 - val_accuracy: 0.4412\n",
      "Epoch 16/20\n",
      "4/4 [==============================] - 0s 16ms/step - loss: 1.0930 - accuracy: 0.4141 - val_loss: 1.0896 - val_accuracy: 0.4412\n",
      "Epoch 17/20\n",
      "4/4 [==============================] - 0s 19ms/step - loss: 1.0929 - accuracy: 0.4141 - val_loss: 1.0895 - val_accuracy: 0.4412\n",
      "Epoch 18/20\n",
      "4/4 [==============================] - 0s 16ms/step - loss: 1.0929 - accuracy: 0.4141 - val_loss: 1.0893 - val_accuracy: 0.4412\n",
      "Epoch 19/20\n",
      "4/4 [==============================] - 0s 19ms/step - loss: 1.0930 - accuracy: 0.4141 - val_loss: 1.0886 - val_accuracy: 0.4412\n",
      "Epoch 20/20\n",
      "4/4 [==============================] - 0s 16ms/step - loss: 1.0927 - accuracy: 0.4141 - val_loss: 1.0885 - val_accuracy: 0.4412\n"
     ]
    },
    {
     "data": {
      "text/plain": [
       "<keras.callbacks.History at 0x1d441164280>"
      ]
     },
     "execution_count": 14,
     "metadata": {},
     "output_type": "execute_result"
    }
   ],
   "source": [
    "model.fit(X_train, y_train, epochs=20, validation_data=(X_val, y_val))"
   ]
  },
  {
   "cell_type": "code",
   "execution_count": 15,
   "id": "32569d16",
   "metadata": {},
   "outputs": [
    {
     "data": {
      "text/plain": [
       "(99, 13)"
      ]
     },
     "execution_count": 15,
     "metadata": {},
     "output_type": "execute_result"
    }
   ],
   "source": [
    "X_train.shape"
   ]
  },
  {
   "cell_type": "code",
   "execution_count": 16,
   "id": "4a48b2eb",
   "metadata": {},
   "outputs": [
    {
     "data": {
      "text/plain": [
       "(99, 3)"
      ]
     },
     "execution_count": 16,
     "metadata": {},
     "output_type": "execute_result"
    }
   ],
   "source": [
    "y_train.shape"
   ]
  },
  {
   "cell_type": "code",
   "execution_count": 17,
   "id": "e931a62b",
   "metadata": {},
   "outputs": [],
   "source": [
    "y_pred = np.argmax(model.predict(X_test), axis=-1)"
   ]
  },
  {
   "cell_type": "code",
   "execution_count": 18,
   "id": "21aa2c62",
   "metadata": {},
   "outputs": [],
   "source": [
    "predictions = (model.predict(X_test) > 0.5).astype(\"int32\")"
   ]
  },
  {
   "cell_type": "code",
   "execution_count": 19,
   "id": "45e5efb8",
   "metadata": {},
   "outputs": [
    {
     "data": {
      "text/plain": [
       "array([1, 1, 1, 1, 1, 1, 1, 1, 1, 1, 1, 1, 1, 1, 1, 1, 1, 1, 1, 1, 1, 1,\n",
       "       1, 1, 1, 1, 1, 1, 1, 1, 1, 1, 1, 1, 1, 1, 1, 1, 1, 1, 1, 1, 1, 1,\n",
       "       1], dtype=int64)"
      ]
     },
     "execution_count": 19,
     "metadata": {},
     "output_type": "execute_result"
    }
   ],
   "source": [
    "y_pred"
   ]
  },
  {
   "cell_type": "code",
   "execution_count": 20,
   "id": "f8a015a6",
   "metadata": {},
   "outputs": [
    {
     "data": {
      "text/plain": [
       "0.3333333333333333"
      ]
     },
     "execution_count": 20,
     "metadata": {},
     "output_type": "execute_result"
    }
   ],
   "source": [
    "from sklearn.metrics import accuracy_score\n",
    "\n",
    "y_test_ = []\n",
    "\n",
    "for i in y_test:\n",
    "    \n",
    "    y_test_.append(np.argmax(i))\n",
    "\n",
    "\n",
    "\n",
    "\n",
    "accuracy_score(y_test_, y_pred)"
   ]
  },
  {
   "cell_type": "markdown",
   "id": "a673ad84",
   "metadata": {},
   "source": [
    "# preprocesing code"
   ]
  },
  {
   "cell_type": "code",
   "execution_count": 21,
   "id": "3bf88f8d",
   "metadata": {},
   "outputs": [],
   "source": [
    "model.save(\"NN.h5\")              ## weights save"
   ]
  },
  {
   "cell_type": "code",
   "execution_count": 22,
   "id": "8594e5c3",
   "metadata": {},
   "outputs": [],
   "source": [
    "from tensorflow.keras.models import load_model"
   ]
  },
  {
   "cell_type": "code",
   "execution_count": 23,
   "id": "44a6115e",
   "metadata": {},
   "outputs": [],
   "source": [
    "model = load_model(\"./NN.h5\")             ## load model"
   ]
  },
  {
   "cell_type": "code",
   "execution_count": 24,
   "id": "fbbc0537",
   "metadata": {},
   "outputs": [],
   "source": [
    "clas = model.predict([[0.4, 0.8, 0.6, 0.9,0.3,0.8,0.2,0.5,0.8,0.4,0.7,0.3,0.6]])          "
   ]
  },
  {
   "cell_type": "code",
   "execution_count": 25,
   "id": "15097881",
   "metadata": {},
   "outputs": [
    {
     "data": {
      "text/plain": [
       "array([[0.33625808, 0.34676346, 0.3169785 ]], dtype=float32)"
      ]
     },
     "execution_count": 25,
     "metadata": {},
     "output_type": "execute_result"
    }
   ],
   "source": [
    "clas"
   ]
  },
  {
   "cell_type": "code",
   "execution_count": 26,
   "id": "a4d09ae2",
   "metadata": {},
   "outputs": [
    {
     "data": {
      "text/plain": [
       "1"
      ]
     },
     "execution_count": 26,
     "metadata": {},
     "output_type": "execute_result"
    }
   ],
   "source": [
    "np.argmax(clas)          # index number return"
   ]
  },
  {
   "cell_type": "code",
   "execution_count": 27,
   "id": "2dfacd00",
   "metadata": {},
   "outputs": [
    {
     "data": {
      "text/plain": [
       "'class2'"
      ]
     },
     "execution_count": 27,
     "metadata": {},
     "output_type": "execute_result"
    }
   ],
   "source": [
    "classes = ['class1', 'class2', 'class3']\n",
    "\n",
    "classes[np.argmax(clas)]                         # class print(index number) "
   ]
  },
  {
   "cell_type": "code",
   "execution_count": null,
   "id": "1cce1980",
   "metadata": {},
   "outputs": [],
   "source": []
  },
  {
   "cell_type": "code",
   "execution_count": null,
   "id": "da09a3d3",
   "metadata": {},
   "outputs": [],
   "source": []
  },
  {
   "cell_type": "code",
   "execution_count": null,
   "id": "f9b43476",
   "metadata": {},
   "outputs": [],
   "source": []
  }
 ],
 "metadata": {
  "kernelspec": {
   "display_name": "Python 3 (ipykernel)",
   "language": "python",
   "name": "python3"
  },
  "language_info": {
   "codemirror_mode": {
    "name": "ipython",
    "version": 3
   },
   "file_extension": ".py",
   "mimetype": "text/x-python",
   "name": "python",
   "nbconvert_exporter": "python",
   "pygments_lexer": "ipython3",
   "version": "3.9.7"
  }
 },
 "nbformat": 4,
 "nbformat_minor": 5
}
